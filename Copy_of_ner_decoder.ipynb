{
  "nbformat": 4,
  "nbformat_minor": 0,
  "metadata": {
    "colab": {
      "name": "Copy of ner-decoder.ipynb",
      "provenance": [],
      "collapsed_sections": [],
      "include_colab_link": true
    },
    "kernelspec": {
      "name": "python3",
      "display_name": "Python 3"
    },
    "accelerator": "GPU"
  },
  "cells": [
    {
      "cell_type": "markdown",
      "metadata": {
        "id": "view-in-github",
        "colab_type": "text"
      },
      "source": [
        "<a href=\"https://colab.research.google.com/github/MANDY-QIU/language-models/blob/master/Copy_of_ner_decoder.ipynb\" target=\"_parent\"><img src=\"https://colab.research.google.com/assets/colab-badge.svg\" alt=\"Open In Colab\"/></a>"
      ]
    },
    {
      "cell_type": "markdown",
      "metadata": {
        "id": "IsY0LJOIT_cG"
      },
      "source": [
        "# Implementing a Viterbi Decoder and Evaluation for Sequence Labeling\n",
        "\n",
        "In this assignment, you will build a Viterbi decoder for an LSTM named-entity recognition model. As we mentioned in class, recurrent and bidirectional recurrent neural networks, of which LSTMs are the most common examples, can be used to perform sequence labeling. Although these models encode information from the surrounding words in order to make predictions, there are no \"hard\" constraints on what tags can appear where.\n",
        "\n",
        "There hard constraints are particularly important for tasks that label spans of more than one token. The most common example of a span-labeling task is named-entity recognition (NER). As described in Eisenstein, Jurafksy & Martin, and other texts, the goal of NER is to label spans of one or more words as _mentions_ of an _entity_, such as a person, location, organization, etc.\n",
        "\n",
        "The most common approach to NER is to reduce it to a sequence-labeling task, where each token in the input is labeled either with an `O`, if it is \"outside\" any named-entity span, or with `B-TYPE`, if it is the first token in an entity of type `TYPE`, or with `I-TYPE`, if it is the second or later token in an entity of type `TYPE`. Distinguishing between the first and later tokens of an entity allow us to identify distinct entity spans even when they are adjacent.\n",
        "\n",
        "Common values of `TYPE` include `PER` for person, `LOC` for location, `DATE` for date, and so on. In the dataset we load below, there are 17 distinct types.\n",
        "\n",
        "The span-labeling scheme just described implies that the labels on tokens must obey certain constraints: the tag `I-PER` must follow either `B-PER` or another `I-PER`. It cannot follow `O`, `B-LOC`, or `I-LOC`, i.e., a tag for a different entity type. By themselves, LSTMs or bidirectional LSTMs cannot directly enforce these constraints. This is one reason why conditional random fields (CRFs), which _can_ enforce these constraints, are often layered on top of these recurrent models.\n",
        "\n",
        "In this assignment, you will implement the simplest possible CRF: a CRF so simple that it does not require any training. Rather, it will assign weight 1 to any sequence of tags that obeys the constraints and weight 0 to any sequence of tags that violates them. The inputs to the CRF, which are analogous to the emission probabilities in an HMM, will come from an LSTM.\n",
        "\n",
        "But first, in order to test your decoder, you will also implement some functions to evaluate the output of an NER system according to two metrics:\n",
        "1. You will count the number of _violations_ of the NER label constraints, i.e., how many times `I-TYPE` follows `O` or a tag of a different type or occurs at the beginning of a sentence. This number will be greater than 0 in the raw LSTM output, but should be 0 for your CRF output.\n",
        "1. You will compute the _span-level_ precision, recall, and F1 of NER output. Although the baseline LSTM was trained to achieve high _token-level_ accuracy, this metric can be misleadingly high, since so many tokens are correctly labeled `O`. In other words, what proportion of spans predicted by the model line up exactly with spans in the gold standard, and what proportion of spans in the gold standard were predicted by the model? Define _span_ as a sequence of tags that starts with a `B-TYPE` followed by zero or more `I-TYPE` tags. Sequences solely of `I-TYPE` tags don't count as spans.For more, see the original task definition: https://www.aclweb.org/anthology/W03-0419/.\n",
        "\n",
        "We start with loading some code and data and the describe your tasks in more detail."
      ]
    },
    {
      "cell_type": "markdown",
      "metadata": {
        "id": "Dhnn49QEU_Ik"
      },
      "source": [
        "## Set Up Dependencies and Definitions"
      ]
    },
    {
      "cell_type": "code",
      "metadata": {
        "id": "QJINX1MwOLBT",
        "colab": {
          "base_uri": "https://localhost:8080/"
        },
        "outputId": "0b86847a-12e5-4d62-b77e-acbbe9d25c82"
      },
      "source": [
        "!pip install --upgrade spacy==2.2.4 allennlp==0.9.0\n",
        "import spacy\n",
        "print(spacy.__version__)"
      ],
      "execution_count": 2,
      "outputs": [
        {
          "output_type": "stream",
          "text": [
            "Requirement already up-to-date: spacy==2.2.4 in /usr/local/lib/python3.6/dist-packages (2.2.4)\n",
            "Collecting allennlp==0.9.0\n",
            "\u001b[?25l  Downloading https://files.pythonhosted.org/packages/bb/bb/041115d8bad1447080e5d1e30097c95e4b66e36074277afce8620a61cee3/allennlp-0.9.0-py3-none-any.whl (7.6MB)\n",
            "\u001b[K     |████████████████████████████████| 7.6MB 6.1MB/s \n",
            "\u001b[?25hRequirement already satisfied, skipping upgrade: murmurhash<1.1.0,>=0.28.0 in /usr/local/lib/python3.6/dist-packages (from spacy==2.2.4) (1.0.4)\n",
            "Requirement already satisfied, skipping upgrade: numpy>=1.15.0 in /usr/local/lib/python3.6/dist-packages (from spacy==2.2.4) (1.18.5)\n",
            "Requirement already satisfied, skipping upgrade: requests<3.0.0,>=2.13.0 in /usr/local/lib/python3.6/dist-packages (from spacy==2.2.4) (2.23.0)\n",
            "Requirement already satisfied, skipping upgrade: catalogue<1.1.0,>=0.0.7 in /usr/local/lib/python3.6/dist-packages (from spacy==2.2.4) (1.0.0)\n",
            "Requirement already satisfied, skipping upgrade: preshed<3.1.0,>=3.0.2 in /usr/local/lib/python3.6/dist-packages (from spacy==2.2.4) (3.0.4)\n",
            "Requirement already satisfied, skipping upgrade: cymem<2.1.0,>=2.0.2 in /usr/local/lib/python3.6/dist-packages (from spacy==2.2.4) (2.0.4)\n",
            "Requirement already satisfied, skipping upgrade: srsly<1.1.0,>=1.0.2 in /usr/local/lib/python3.6/dist-packages (from spacy==2.2.4) (1.0.4)\n",
            "Requirement already satisfied, skipping upgrade: tqdm<5.0.0,>=4.38.0 in /usr/local/lib/python3.6/dist-packages (from spacy==2.2.4) (4.41.1)\n",
            "Requirement already satisfied, skipping upgrade: blis<0.5.0,>=0.4.0 in /usr/local/lib/python3.6/dist-packages (from spacy==2.2.4) (0.4.1)\n",
            "Requirement already satisfied, skipping upgrade: wasabi<1.1.0,>=0.4.0 in /usr/local/lib/python3.6/dist-packages (from spacy==2.2.4) (0.8.0)\n",
            "Requirement already satisfied, skipping upgrade: plac<1.2.0,>=0.9.6 in /usr/local/lib/python3.6/dist-packages (from spacy==2.2.4) (1.1.3)\n",
            "Requirement already satisfied, skipping upgrade: thinc==7.4.0 in /usr/local/lib/python3.6/dist-packages (from spacy==2.2.4) (7.4.0)\n",
            "Requirement already satisfied, skipping upgrade: setuptools in /usr/local/lib/python3.6/dist-packages (from spacy==2.2.4) (50.3.2)\n",
            "Requirement already satisfied, skipping upgrade: matplotlib>=2.2.3 in /usr/local/lib/python3.6/dist-packages (from allennlp==0.9.0) (3.2.2)\n",
            "Requirement already satisfied, skipping upgrade: pytest in /usr/local/lib/python3.6/dist-packages (from allennlp==0.9.0) (3.6.4)\n",
            "Collecting ftfy\n",
            "\u001b[?25l  Downloading https://files.pythonhosted.org/packages/ff/e2/3b51c53dffb1e52d9210ebc01f1fb9f2f6eba9b3201fa971fd3946643c71/ftfy-5.8.tar.gz (64kB)\n",
            "\u001b[K     |████████████████████████████████| 71kB 11.5MB/s \n",
            "\u001b[?25hCollecting jsonnet>=0.10.0; sys_platform != \"win32\"\n",
            "\u001b[?25l  Downloading https://files.pythonhosted.org/packages/42/40/6f16e5ac994b16fa71c24310f97174ce07d3a97b433275589265c6b94d2b/jsonnet-0.17.0.tar.gz (259kB)\n",
            "\u001b[K     |████████████████████████████████| 266kB 46.4MB/s \n",
            "\u001b[?25hRequirement already satisfied, skipping upgrade: pytz>=2017.3 in /usr/local/lib/python3.6/dist-packages (from allennlp==0.9.0) (2018.9)\n",
            "Collecting pytorch-transformers==1.1.0\n",
            "\u001b[?25l  Downloading https://files.pythonhosted.org/packages/50/89/ad0d6bb932d0a51793eaabcf1617a36ff530dc9ab9e38f765a35dc293306/pytorch_transformers-1.1.0-py3-none-any.whl (158kB)\n",
            "\u001b[K     |████████████████████████████████| 163kB 47.6MB/s \n",
            "\u001b[?25hRequirement already satisfied, skipping upgrade: scipy in /usr/local/lib/python3.6/dist-packages (from allennlp==0.9.0) (1.4.1)\n",
            "Collecting pytorch-pretrained-bert>=0.6.0\n",
            "\u001b[?25l  Downloading https://files.pythonhosted.org/packages/d7/e0/c08d5553b89973d9a240605b9c12404bcf8227590de62bae27acbcfe076b/pytorch_pretrained_bert-0.6.2-py3-none-any.whl (123kB)\n",
            "\u001b[K     |████████████████████████████████| 133kB 49.7MB/s \n",
            "\u001b[?25hCollecting responses>=0.7\n",
            "  Downloading https://files.pythonhosted.org/packages/d5/71/4f04aed03ca35f2d02e1732ca6e996b2d7b40232fb7f1b58ff35f9a89b7b/responses-0.12.1-py2.py3-none-any.whl\n",
            "Requirement already satisfied, skipping upgrade: editdistance in /usr/local/lib/python3.6/dist-packages (from allennlp==0.9.0) (0.5.3)\n",
            "Collecting numpydoc>=0.8.0\n",
            "\u001b[?25l  Downloading https://files.pythonhosted.org/packages/60/1d/9e398c53d6ae27d5ab312ddc16a9ffe1bee0dfdf1d6ec88c40b0ca97582e/numpydoc-1.1.0-py3-none-any.whl (47kB)\n",
            "\u001b[K     |████████████████████████████████| 51kB 8.6MB/s \n",
            "\u001b[?25hCollecting flaky\n",
            "  Downloading https://files.pythonhosted.org/packages/43/0e/2f50064e327f41a1eb811df089f813036e19a64b95e33f8e9e0b96c2447e/flaky-3.7.0-py2.py3-none-any.whl\n",
            "Collecting tensorboardX>=1.2\n",
            "\u001b[?25l  Downloading https://files.pythonhosted.org/packages/af/0c/4f41bcd45db376e6fe5c619c01100e9b7531c55791b7244815bac6eac32c/tensorboardX-2.1-py2.py3-none-any.whl (308kB)\n",
            "\u001b[K     |████████████████████████████████| 317kB 55.1MB/s \n",
            "\u001b[?25hCollecting parsimonious>=0.8.0\n",
            "\u001b[?25l  Downloading https://files.pythonhosted.org/packages/02/fc/067a3f89869a41009e1a7cdfb14725f8ddd246f30f63c645e8ef8a1c56f4/parsimonious-0.8.1.tar.gz (45kB)\n",
            "\u001b[K     |████████████████████████████████| 51kB 9.0MB/s \n",
            "\u001b[?25hCollecting word2number>=1.1\n",
            "  Downloading https://files.pythonhosted.org/packages/4a/29/a31940c848521f0725f0df6b25dca8917f13a2025b0e8fcbe5d0457e45e6/word2number-1.1.zip\n",
            "Collecting overrides\n",
            "  Downloading https://files.pythonhosted.org/packages/ff/b1/10f69c00947518e6676bbd43e739733048de64b8dd998e9c2d5a71f44c5d/overrides-3.1.0.tar.gz\n",
            "Collecting unidecode\n",
            "\u001b[?25l  Downloading https://files.pythonhosted.org/packages/d0/42/d9edfed04228bacea2d824904cae367ee9efd05e6cce7ceaaedd0b0ad964/Unidecode-1.1.1-py2.py3-none-any.whl (238kB)\n",
            "\u001b[K     |████████████████████████████████| 245kB 51.2MB/s \n",
            "\u001b[?25hRequirement already satisfied, skipping upgrade: nltk in /usr/local/lib/python3.6/dist-packages (from allennlp==0.9.0) (3.2.5)\n",
            "Collecting conllu==1.3.1\n",
            "  Downloading https://files.pythonhosted.org/packages/ae/54/b0ae1199f3d01666821b028cd967f7c0ac527ab162af433d3da69242cea2/conllu-1.3.1-py2.py3-none-any.whl\n",
            "Collecting gevent>=1.3.6\n",
            "\u001b[?25l  Downloading https://files.pythonhosted.org/packages/3f/92/b80b922f08f222faca53c8d278e2e612192bc74b0e1f0db2f80a6ee46982/gevent-20.9.0-cp36-cp36m-manylinux2010_x86_64.whl (5.3MB)\n",
            "\u001b[K     |████████████████████████████████| 5.3MB 52.3MB/s \n",
            "\u001b[?25hRequirement already satisfied, skipping upgrade: h5py in /usr/local/lib/python3.6/dist-packages (from allennlp==0.9.0) (2.10.0)\n",
            "Requirement already satisfied, skipping upgrade: sqlparse>=0.2.4 in /usr/local/lib/python3.6/dist-packages (from allennlp==0.9.0) (0.4.1)\n",
            "Requirement already satisfied, skipping upgrade: scikit-learn in /usr/local/lib/python3.6/dist-packages (from allennlp==0.9.0) (0.22.2.post1)\n",
            "Requirement already satisfied, skipping upgrade: flask>=1.0.2 in /usr/local/lib/python3.6/dist-packages (from allennlp==0.9.0) (1.1.2)\n",
            "Requirement already satisfied, skipping upgrade: torch>=1.2.0 in /usr/local/lib/python3.6/dist-packages (from allennlp==0.9.0) (1.7.0+cu101)\n",
            "Collecting flask-cors>=3.0.7\n",
            "  Downloading https://files.pythonhosted.org/packages/69/7f/d0aeaaafb5c3c76c8d2141dbe2d4f6dca5d6c31872d4e5349768c1958abc/Flask_Cors-3.0.9-py2.py3-none-any.whl\n",
            "Collecting jsonpickle\n",
            "  Downloading https://files.pythonhosted.org/packages/ee/d5/1cc282dc23346a43aab461bf2e8c36593aacd34242bee1a13fa750db0cfe/jsonpickle-1.4.2-py2.py3-none-any.whl\n",
            "Collecting boto3\n",
            "\u001b[?25l  Downloading https://files.pythonhosted.org/packages/93/75/3c8a1dca9013c1decef4a3fa3926bbcfb8e2461cde8e147fe77b354322fc/boto3-1.16.32-py2.py3-none-any.whl (129kB)\n",
            "\u001b[K     |████████████████████████████████| 133kB 52.1MB/s \n",
            "\u001b[?25hRequirement already satisfied, skipping upgrade: urllib3!=1.25.0,!=1.25.1,<1.26,>=1.21.1 in /usr/local/lib/python3.6/dist-packages (from requests<3.0.0,>=2.13.0->spacy==2.2.4) (1.24.3)\n",
            "Requirement already satisfied, skipping upgrade: chardet<4,>=3.0.2 in /usr/local/lib/python3.6/dist-packages (from requests<3.0.0,>=2.13.0->spacy==2.2.4) (3.0.4)\n",
            "Requirement already satisfied, skipping upgrade: certifi>=2017.4.17 in /usr/local/lib/python3.6/dist-packages (from requests<3.0.0,>=2.13.0->spacy==2.2.4) (2020.11.8)\n",
            "Requirement already satisfied, skipping upgrade: idna<3,>=2.5 in /usr/local/lib/python3.6/dist-packages (from requests<3.0.0,>=2.13.0->spacy==2.2.4) (2.10)\n",
            "Requirement already satisfied, skipping upgrade: importlib-metadata>=0.20; python_version < \"3.8\" in /usr/local/lib/python3.6/dist-packages (from catalogue<1.1.0,>=0.0.7->spacy==2.2.4) (2.0.0)\n",
            "Requirement already satisfied, skipping upgrade: python-dateutil>=2.1 in /usr/local/lib/python3.6/dist-packages (from matplotlib>=2.2.3->allennlp==0.9.0) (2.8.1)\n",
            "Requirement already satisfied, skipping upgrade: cycler>=0.10 in /usr/local/lib/python3.6/dist-packages (from matplotlib>=2.2.3->allennlp==0.9.0) (0.10.0)\n",
            "Requirement already satisfied, skipping upgrade: pyparsing!=2.0.4,!=2.1.2,!=2.1.6,>=2.0.1 in /usr/local/lib/python3.6/dist-packages (from matplotlib>=2.2.3->allennlp==0.9.0) (2.4.7)\n",
            "Requirement already satisfied, skipping upgrade: kiwisolver>=1.0.1 in /usr/local/lib/python3.6/dist-packages (from matplotlib>=2.2.3->allennlp==0.9.0) (1.3.1)\n",
            "Requirement already satisfied, skipping upgrade: attrs>=17.4.0 in /usr/local/lib/python3.6/dist-packages (from pytest->allennlp==0.9.0) (20.3.0)\n",
            "Requirement already satisfied, skipping upgrade: pluggy<0.8,>=0.5 in /usr/local/lib/python3.6/dist-packages (from pytest->allennlp==0.9.0) (0.7.1)\n",
            "Requirement already satisfied, skipping upgrade: py>=1.5.0 in /usr/local/lib/python3.6/dist-packages (from pytest->allennlp==0.9.0) (1.9.0)\n",
            "Requirement already satisfied, skipping upgrade: more-itertools>=4.0.0 in /usr/local/lib/python3.6/dist-packages (from pytest->allennlp==0.9.0) (8.6.0)\n",
            "Requirement already satisfied, skipping upgrade: atomicwrites>=1.0 in /usr/local/lib/python3.6/dist-packages (from pytest->allennlp==0.9.0) (1.4.0)\n",
            "Requirement already satisfied, skipping upgrade: six>=1.10.0 in /usr/local/lib/python3.6/dist-packages (from pytest->allennlp==0.9.0) (1.15.0)\n",
            "Requirement already satisfied, skipping upgrade: wcwidth in /usr/local/lib/python3.6/dist-packages (from ftfy->allennlp==0.9.0) (0.2.5)\n",
            "Requirement already satisfied, skipping upgrade: regex in /usr/local/lib/python3.6/dist-packages (from pytorch-transformers==1.1.0->allennlp==0.9.0) (2019.12.20)\n",
            "Collecting sentencepiece\n",
            "\u001b[?25l  Downloading https://files.pythonhosted.org/packages/e5/2d/6d4ca4bef9a67070fa1cac508606328329152b1df10bdf31fb6e4e727894/sentencepiece-0.1.94-cp36-cp36m-manylinux2014_x86_64.whl (1.1MB)\n",
            "\u001b[K     |████████████████████████████████| 1.1MB 54.1MB/s \n",
            "\u001b[?25hRequirement already satisfied, skipping upgrade: sphinx>=1.6.5 in /usr/local/lib/python3.6/dist-packages (from numpydoc>=0.8.0->allennlp==0.9.0) (1.8.5)\n",
            "Requirement already satisfied, skipping upgrade: Jinja2>=2.3 in /usr/local/lib/python3.6/dist-packages (from numpydoc>=0.8.0->allennlp==0.9.0) (2.11.2)\n",
            "Requirement already satisfied, skipping upgrade: protobuf>=3.8.0 in /usr/local/lib/python3.6/dist-packages (from tensorboardX>=1.2->allennlp==0.9.0) (3.12.4)\n",
            "Collecting zope.event\n",
            "  Downloading https://files.pythonhosted.org/packages/9e/85/b45408c64f3b888976f1d5b37eed8d746b8d5729a66a49ec846fda27d371/zope.event-4.5.0-py2.py3-none-any.whl\n",
            "Collecting greenlet>=0.4.17; platform_python_implementation == \"CPython\"\n",
            "\u001b[?25l  Downloading https://files.pythonhosted.org/packages/80/d0/532e160c777b42f6f393f9de8c88abb8af6c892037c55e4d3a8a211324dd/greenlet-0.4.17-cp36-cp36m-manylinux1_x86_64.whl (44kB)\n",
            "\u001b[K     |████████████████████████████████| 51kB 8.2MB/s \n",
            "\u001b[?25hCollecting zope.interface\n",
            "\u001b[?25l  Downloading https://files.pythonhosted.org/packages/82/b0/da8afd9b3bd50c7665ecdac062f182982af1173c9081f9af7261091c5588/zope.interface-5.2.0-cp36-cp36m-manylinux2010_x86_64.whl (236kB)\n",
            "\u001b[K     |████████████████████████████████| 245kB 49.0MB/s \n",
            "\u001b[?25hRequirement already satisfied, skipping upgrade: joblib>=0.11 in /usr/local/lib/python3.6/dist-packages (from scikit-learn->allennlp==0.9.0) (0.17.0)\n",
            "Requirement already satisfied, skipping upgrade: itsdangerous>=0.24 in /usr/local/lib/python3.6/dist-packages (from flask>=1.0.2->allennlp==0.9.0) (1.1.0)\n",
            "Requirement already satisfied, skipping upgrade: click>=5.1 in /usr/local/lib/python3.6/dist-packages (from flask>=1.0.2->allennlp==0.9.0) (7.1.2)\n",
            "Requirement already satisfied, skipping upgrade: Werkzeug>=0.15 in /usr/local/lib/python3.6/dist-packages (from flask>=1.0.2->allennlp==0.9.0) (1.0.1)\n",
            "Requirement already satisfied, skipping upgrade: dataclasses in /usr/local/lib/python3.6/dist-packages (from torch>=1.2.0->allennlp==0.9.0) (0.8)\n",
            "Requirement already satisfied, skipping upgrade: future in /usr/local/lib/python3.6/dist-packages (from torch>=1.2.0->allennlp==0.9.0) (0.16.0)\n",
            "Requirement already satisfied, skipping upgrade: typing-extensions in /usr/local/lib/python3.6/dist-packages (from torch>=1.2.0->allennlp==0.9.0) (3.7.4.3)\n",
            "Collecting s3transfer<0.4.0,>=0.3.0\n",
            "\u001b[?25l  Downloading https://files.pythonhosted.org/packages/69/79/e6afb3d8b0b4e96cefbdc690f741d7dd24547ff1f94240c997a26fa908d3/s3transfer-0.3.3-py2.py3-none-any.whl (69kB)\n",
            "\u001b[K     |████████████████████████████████| 71kB 11.5MB/s \n",
            "\u001b[?25hCollecting jmespath<1.0.0,>=0.7.1\n",
            "  Downloading https://files.pythonhosted.org/packages/07/cb/5f001272b6faeb23c1c9e0acc04d48eaaf5c862c17709d20e3469c6e0139/jmespath-0.10.0-py2.py3-none-any.whl\n",
            "Collecting botocore<1.20.0,>=1.19.32\n",
            "\u001b[?25l  Downloading https://files.pythonhosted.org/packages/4a/60/c61c8f5af78833f11bf7dabde251ab77406119de7553a35a1179c3444d4d/botocore-1.19.32-py2.py3-none-any.whl (7.0MB)\n",
            "\u001b[K     |████████████████████████████████| 7.0MB 46.4MB/s \n",
            "\u001b[?25hRequirement already satisfied, skipping upgrade: zipp>=0.5 in /usr/local/lib/python3.6/dist-packages (from importlib-metadata>=0.20; python_version < \"3.8\"->catalogue<1.1.0,>=0.0.7->spacy==2.2.4) (3.4.0)\n",
            "Requirement already satisfied, skipping upgrade: alabaster<0.8,>=0.7 in /usr/local/lib/python3.6/dist-packages (from sphinx>=1.6.5->numpydoc>=0.8.0->allennlp==0.9.0) (0.7.12)\n",
            "Requirement already satisfied, skipping upgrade: docutils>=0.11 in /usr/local/lib/python3.6/dist-packages (from sphinx>=1.6.5->numpydoc>=0.8.0->allennlp==0.9.0) (0.16)\n",
            "Requirement already satisfied, skipping upgrade: Pygments>=2.0 in /usr/local/lib/python3.6/dist-packages (from sphinx>=1.6.5->numpydoc>=0.8.0->allennlp==0.9.0) (2.6.1)\n",
            "Requirement already satisfied, skipping upgrade: sphinxcontrib-websupport in /usr/local/lib/python3.6/dist-packages (from sphinx>=1.6.5->numpydoc>=0.8.0->allennlp==0.9.0) (1.2.4)\n",
            "Requirement already satisfied, skipping upgrade: babel!=2.0,>=1.3 in /usr/local/lib/python3.6/dist-packages (from sphinx>=1.6.5->numpydoc>=0.8.0->allennlp==0.9.0) (2.9.0)\n",
            "Requirement already satisfied, skipping upgrade: imagesize in /usr/local/lib/python3.6/dist-packages (from sphinx>=1.6.5->numpydoc>=0.8.0->allennlp==0.9.0) (1.2.0)\n",
            "Requirement already satisfied, skipping upgrade: snowballstemmer>=1.1 in /usr/local/lib/python3.6/dist-packages (from sphinx>=1.6.5->numpydoc>=0.8.0->allennlp==0.9.0) (2.0.0)\n",
            "Requirement already satisfied, skipping upgrade: packaging in /usr/local/lib/python3.6/dist-packages (from sphinx>=1.6.5->numpydoc>=0.8.0->allennlp==0.9.0) (20.4)\n",
            "Requirement already satisfied, skipping upgrade: MarkupSafe>=0.23 in /usr/local/lib/python3.6/dist-packages (from Jinja2>=2.3->numpydoc>=0.8.0->allennlp==0.9.0) (1.1.1)\n",
            "Requirement already satisfied, skipping upgrade: sphinxcontrib-serializinghtml in /usr/local/lib/python3.6/dist-packages (from sphinxcontrib-websupport->sphinx>=1.6.5->numpydoc>=0.8.0->allennlp==0.9.0) (1.1.4)\n",
            "Building wheels for collected packages: ftfy, jsonnet, parsimonious, word2number, overrides\n",
            "  Building wheel for ftfy (setup.py) ... \u001b[?25l\u001b[?25hdone\n",
            "  Created wheel for ftfy: filename=ftfy-5.8-cp36-none-any.whl size=45612 sha256=d43f393883fff687d716f436b85be77e0d0ac70fba553eaf69f183e89aab1a62\n",
            "  Stored in directory: /root/.cache/pip/wheels/ba/c0/ef/f28c4da5ac84a4e06ac256ca9182fc34fa57fefffdbc68425b\n",
            "  Building wheel for jsonnet (setup.py) ... \u001b[?25l\u001b[?25hdone\n",
            "  Created wheel for jsonnet: filename=jsonnet-0.17.0-cp36-cp36m-linux_x86_64.whl size=3387926 sha256=bb6b6c995cb3961d4a999f4f6ad0ade961a0cfa1c159899d13ae332437d90469\n",
            "  Stored in directory: /root/.cache/pip/wheels/26/7a/37/7dbcc30a6b4efd17b91ad1f0128b7bbf84813bd4e1cfb8c1e3\n",
            "  Building wheel for parsimonious (setup.py) ... \u001b[?25l\u001b[?25hdone\n",
            "  Created wheel for parsimonious: filename=parsimonious-0.8.1-cp36-none-any.whl size=42709 sha256=1383ce727c4d1adc3a0f50e3468b22fa8682f361f993171f65ba28aa8716a1aa\n",
            "  Stored in directory: /root/.cache/pip/wheels/b7/8d/e7/a0e74217da5caeb3c1c7689639b6d28ddbf9985b840bc96a9a\n",
            "  Building wheel for word2number (setup.py) ... \u001b[?25l\u001b[?25hdone\n",
            "  Created wheel for word2number: filename=word2number-1.1-cp36-none-any.whl size=5588 sha256=56a6da8861b4505b94584dc234e05fe8e7fb92cd9dd77633fc65e3d0337ee45e\n",
            "  Stored in directory: /root/.cache/pip/wheels/46/2f/53/5f5c1d275492f2fce1cdab9a9bb12d49286dead829a4078e0e\n",
            "  Building wheel for overrides (setup.py) ... \u001b[?25l\u001b[?25hdone\n",
            "  Created wheel for overrides: filename=overrides-3.1.0-cp36-none-any.whl size=10174 sha256=e9054925301f93f05a5581bc08c57ba44f732f0e6f7f0c78c1d6f722a54f3415\n",
            "  Stored in directory: /root/.cache/pip/wheels/5c/24/13/6ef8600e6f147c95e595f1289a86a3cc82ed65df57582c65a9\n",
            "Successfully built ftfy jsonnet parsimonious word2number overrides\n",
            "\u001b[31mERROR: botocore 1.19.32 has requirement urllib3<1.27,>=1.25.4; python_version != \"3.4\", but you'll have urllib3 1.24.3 which is incompatible.\u001b[0m\n",
            "\u001b[31mERROR: responses 0.12.1 has requirement urllib3>=1.25.10, but you'll have urllib3 1.24.3 which is incompatible.\u001b[0m\n",
            "\u001b[31mERROR: allennlp 0.9.0 has requirement spacy<2.2,>=2.1.0, but you'll have spacy 2.2.4 which is incompatible.\u001b[0m\n",
            "Installing collected packages: ftfy, jsonnet, sentencepiece, jmespath, botocore, s3transfer, boto3, pytorch-transformers, pytorch-pretrained-bert, responses, numpydoc, flaky, tensorboardX, parsimonious, word2number, overrides, unidecode, conllu, zope.event, greenlet, zope.interface, gevent, flask-cors, jsonpickle, allennlp\n",
            "Successfully installed allennlp-0.9.0 boto3-1.16.32 botocore-1.19.32 conllu-1.3.1 flaky-3.7.0 flask-cors-3.0.9 ftfy-5.8 gevent-20.9.0 greenlet-0.4.17 jmespath-0.10.0 jsonnet-0.17.0 jsonpickle-1.4.2 numpydoc-1.1.0 overrides-3.1.0 parsimonious-0.8.1 pytorch-pretrained-bert-0.6.2 pytorch-transformers-1.1.0 responses-0.12.1 s3transfer-0.3.3 sentencepiece-0.1.94 tensorboardX-2.1 unidecode-1.1.1 word2number-1.1 zope.event-4.5.0 zope.interface-5.2.0\n",
            "2.2.4\n"
          ],
          "name": "stdout"
        }
      ]
    },
    {
      "cell_type": "code",
      "metadata": {
        "id": "f4zJfaIlJ2bv",
        "colab": {
          "base_uri": "https://localhost:8080/"
        },
        "outputId": "b7e10ec6-0b67-4896-e2a0-feafc1429cd8"
      },
      "source": [
        "from typing import Iterator, List, Dict\n",
        "import torch\n",
        "import torch.optim as optim\n",
        "import numpy as np\n",
        "from allennlp.data import Instance\n",
        "from allennlp.data.fields import TextField, SequenceLabelField\n",
        "from allennlp.data.dataset_readers import DatasetReader\n",
        "from allennlp.common.file_utils import cached_path\n",
        "from allennlp.data.token_indexers import TokenIndexer, SingleIdTokenIndexer\n",
        "from allennlp.data.tokenizers import Token\n",
        "from allennlp.data.vocabulary import Vocabulary\n",
        "from allennlp.models import Model\n",
        "from allennlp.modules.text_field_embedders import TextFieldEmbedder, BasicTextFieldEmbedder\n",
        "from allennlp.modules.token_embedders import Embedding\n",
        "from allennlp.modules.seq2seq_encoders import Seq2SeqEncoder, PytorchSeq2SeqWrapper\n",
        "from allennlp.nn.util import get_text_field_mask, sequence_cross_entropy_with_logits\n",
        "from allennlp.training.metrics import CategoricalAccuracy\n",
        "from allennlp.data.iterators import BucketIterator\n",
        "from allennlp.training.trainer import Trainer\n",
        "from allennlp.predictors import SentenceTaggerPredictor\n",
        "from allennlp.data.dataset_readers import conll2003\n",
        "\n",
        "torch.manual_seed(1)"
      ],
      "execution_count": 3,
      "outputs": [
        {
          "output_type": "execute_result",
          "data": {
            "text/plain": [
              "<torch._C.Generator at 0x7fbcaa481f60>"
            ]
          },
          "metadata": {
            "tags": []
          },
          "execution_count": 3
        }
      ]
    },
    {
      "cell_type": "code",
      "metadata": {
        "id": "Qo16Ko0Gchxk"
      },
      "source": [
        "class LstmTagger(Model):\n",
        "  def __init__(self,\n",
        "               word_embeddings: TextFieldEmbedder,\n",
        "               encoder: Seq2SeqEncoder,\n",
        "               vocab: Vocabulary) -> None:\n",
        "    super().__init__(vocab)\n",
        "    self.word_embeddings = word_embeddings\n",
        "    self.encoder = encoder\n",
        "    self.hidden2tag = torch.nn.Linear(in_features=encoder.get_output_dim(),\n",
        "                                      out_features=vocab.get_vocab_size('labels'))\n",
        "    self.accuracy = CategoricalAccuracy()\n",
        "\n",
        "  def forward(self,\n",
        "              tokens: Dict[str, torch.Tensor],\n",
        "              metadata,\n",
        "              tags: torch.Tensor = None) -> Dict[str, torch.Tensor]:\n",
        "    mask = get_text_field_mask(tokens)\n",
        "    embeddings = self.word_embeddings(tokens)\n",
        "    encoder_out = self.encoder(embeddings, mask)\n",
        "    tag_logits = self.hidden2tag(encoder_out)\n",
        "    output = {\"tag_logits\": tag_logits}\n",
        "    if tags is not None:\n",
        "      self.accuracy(tag_logits, tags, mask)\n",
        "      output[\"loss\"] = sequence_cross_entropy_with_logits(tag_logits, tags, mask)\n",
        "\n",
        "    return output\n",
        "\n",
        "  def get_metrics(self, reset: bool = False) -> Dict[str, float]:\n",
        "    return {\"accuracy\": self.accuracy.get_metric(reset)}"
      ],
      "execution_count": 4,
      "outputs": []
    },
    {
      "cell_type": "code",
      "metadata": {
        "id": "ufelG42hEkkW"
      },
      "source": [
        ""
      ],
      "execution_count": null,
      "outputs": []
    },
    {
      "cell_type": "markdown",
      "metadata": {
        "id": "mVdKvPftVVLt"
      },
      "source": [
        "## Import Data"
      ]
    },
    {
      "cell_type": "code",
      "metadata": {
        "id": "5sOVVZslKm3N",
        "colab": {
          "base_uri": "https://localhost:8080/"
        },
        "outputId": "15863076-a135-4c01-d3a8-32f14034e3b3"
      },
      "source": [
        "reader = conll2003.Conll2003DatasetReader()\n",
        "train_dataset = reader.read(cached_path('http://www.ccs.neu.edu/home/dasmith/onto.train.ner.sample'))\n",
        "validation_dataset = reader.read(cached_path('http://www.ccs.neu.edu/home/dasmith/onto.development.ner.sample'))\n",
        "\n",
        "vocab = Vocabulary.from_instances(train_dataset + validation_dataset)"
      ],
      "execution_count": 6,
      "outputs": [
        {
          "output_type": "stream",
          "text": [
            "562it [00:00, 16506.07it/s]\n",
            "23it [00:00, 7915.73it/s]\n",
            "100%|██████████| 585/585 [00:00<00:00, 48144.17it/s]\n"
          ],
          "name": "stderr"
        }
      ]
    },
    {
      "cell_type": "markdown",
      "metadata": {
        "id": "wpg2Udr-Vnwm"
      },
      "source": [
        "## Define and Train Model"
      ]
    },
    {
      "cell_type": "code",
      "metadata": {
        "id": "8kDQQBMywdKx",
        "colab": {
          "base_uri": "https://localhost:8080/"
        },
        "outputId": "d728dba8-1a79-47f4-851a-fe34a0d2a43c"
      },
      "source": [
        "EMBEDDING_DIM = 6\n",
        "HIDDEN_DIM = 6\n",
        "token_embedding = Embedding(num_embeddings=vocab.get_vocab_size('tokens'),\n",
        "                            embedding_dim=EMBEDDING_DIM)\n",
        "word_embeddings = BasicTextFieldEmbedder({\"tokens\": token_embedding})\n",
        "lstm = PytorchSeq2SeqWrapper(torch.nn.LSTM(EMBEDDING_DIM, HIDDEN_DIM, bidirectional=False, batch_first=True))\n",
        "model = LstmTagger(word_embeddings, lstm, vocab)\n",
        "if torch.cuda.is_available():\n",
        "    cuda_device = 0\n",
        "    model = model.cuda(cuda_device)\n",
        "else:\n",
        "    cuda_device = -1\n",
        "# optimizer = optim.AdamW(model.parameters(), lr=1e-4, eps=1e-8)\n",
        "optimizer = optim.SGD(model.parameters(), lr=0.1)\n",
        "iterator = BucketIterator(batch_size=2, sorting_keys=[(\"tokens\", \"num_tokens\")])\n",
        "iterator.index_with(vocab)\n",
        "trainer = Trainer(model=model,\n",
        "                  optimizer=optimizer,\n",
        "                  iterator=iterator,\n",
        "                  train_dataset=train_dataset,\n",
        "                  validation_dataset=validation_dataset,\n",
        "                  patience=10,\n",
        "                  num_epochs=100,\n",
        "                  cuda_device=cuda_device)\n",
        "trainer.train()"
      ],
      "execution_count": 7,
      "outputs": [
        {
          "output_type": "stream",
          "text": [
            "accuracy: 0.8442, loss: 0.9142 ||: 100%|██████████| 281/281 [00:01<00:00, 186.49it/s]\n",
            "accuracy: 0.7878, loss: 1.1933 ||: 100%|██████████| 12/12 [00:00<00:00, 386.09it/s]\n",
            "accuracy: 0.8442, loss: 0.7294 ||: 100%|██████████| 281/281 [00:01<00:00, 216.26it/s]\n",
            "accuracy: 0.7878, loss: 1.1755 ||: 100%|██████████| 12/12 [00:00<00:00, 416.77it/s]\n",
            "accuracy: 0.8442, loss: 0.7164 ||: 100%|██████████| 281/281 [00:01<00:00, 214.26it/s]\n",
            "accuracy: 0.7878, loss: 1.1787 ||: 100%|██████████| 12/12 [00:00<00:00, 415.40it/s]\n",
            "accuracy: 0.8442, loss: 0.7071 ||: 100%|██████████| 281/281 [00:01<00:00, 186.22it/s]\n",
            "accuracy: 0.7878, loss: 1.1674 ||: 100%|██████████| 12/12 [00:00<00:00, 353.10it/s]\n",
            "accuracy: 0.8442, loss: 0.6989 ||: 100%|██████████| 281/281 [00:01<00:00, 216.76it/s]\n",
            "accuracy: 0.7878, loss: 1.1713 ||: 100%|██████████| 12/12 [00:00<00:00, 371.06it/s]\n",
            "accuracy: 0.8442, loss: 0.6910 ||: 100%|██████████| 281/281 [00:01<00:00, 215.92it/s]\n",
            "accuracy: 0.7878, loss: 1.1569 ||: 100%|██████████| 12/12 [00:00<00:00, 393.27it/s]\n",
            "accuracy: 0.8442, loss: 0.6813 ||: 100%|██████████| 281/281 [00:01<00:00, 219.61it/s]\n",
            "accuracy: 0.7878, loss: 1.1363 ||: 100%|██████████| 12/12 [00:00<00:00, 453.44it/s]\n",
            "accuracy: 0.8442, loss: 0.6709 ||: 100%|██████████| 281/281 [00:01<00:00, 217.17it/s]\n",
            "accuracy: 0.7878, loss: 1.1311 ||: 100%|██████████| 12/12 [00:00<00:00, 359.64it/s]\n",
            "accuracy: 0.8442, loss: 0.6565 ||: 100%|██████████| 281/281 [00:01<00:00, 218.77it/s]\n",
            "accuracy: 0.7878, loss: 1.1247 ||: 100%|██████████| 12/12 [00:00<00:00, 417.77it/s]\n",
            "accuracy: 0.8442, loss: 0.6396 ||: 100%|██████████| 281/281 [00:01<00:00, 196.12it/s]\n",
            "accuracy: 0.7878, loss: 1.0851 ||: 100%|██████████| 12/12 [00:00<00:00, 413.55it/s]\n",
            "accuracy: 0.8442, loss: 0.6131 ||: 100%|██████████| 281/281 [00:01<00:00, 189.25it/s]\n",
            "accuracy: 0.7878, loss: 1.0399 ||: 100%|██████████| 12/12 [00:00<00:00, 417.93it/s]\n",
            "accuracy: 0.8442, loss: 0.5778 ||: 100%|██████████| 281/281 [00:01<00:00, 218.27it/s]\n",
            "accuracy: 0.7878, loss: 0.9761 ||: 100%|██████████| 12/12 [00:00<00:00, 394.96it/s]\n",
            "accuracy: 0.8464, loss: 0.5361 ||: 100%|██████████| 281/281 [00:01<00:00, 215.18it/s]\n",
            "accuracy: 0.7878, loss: 0.9094 ||: 100%|██████████| 12/12 [00:00<00:00, 331.44it/s]\n",
            "accuracy: 0.8564, loss: 0.5011 ||: 100%|██████████| 281/281 [00:01<00:00, 220.44it/s]\n",
            "accuracy: 0.7878, loss: 0.8840 ||: 100%|██████████| 12/12 [00:00<00:00, 396.11it/s]\n",
            "accuracy: 0.8589, loss: 0.4697 ||: 100%|██████████| 281/281 [00:01<00:00, 216.71it/s]\n",
            "accuracy: 0.7878, loss: 0.8310 ||: 100%|██████████| 12/12 [00:00<00:00, 409.91it/s]\n",
            "accuracy: 0.8599, loss: 0.4470 ||: 100%|██████████| 281/281 [00:01<00:00, 203.38it/s]\n",
            "accuracy: 0.7878, loss: 0.8352 ||: 100%|██████████| 12/12 [00:00<00:00, 405.46it/s]\n",
            "accuracy: 0.8612, loss: 0.4287 ||: 100%|██████████| 281/281 [00:01<00:00, 223.37it/s]\n",
            "accuracy: 0.7939, loss: 0.7722 ||: 100%|██████████| 12/12 [00:00<00:00, 390.85it/s]\n",
            "accuracy: 0.8620, loss: 0.4159 ||: 100%|██████████| 281/281 [00:01<00:00, 214.87it/s]\n",
            "accuracy: 0.7939, loss: 0.7639 ||: 100%|██████████| 12/12 [00:00<00:00, 342.25it/s]\n",
            "accuracy: 0.8627, loss: 0.4052 ||: 100%|██████████| 281/281 [00:01<00:00, 212.89it/s]\n",
            "accuracy: 0.7939, loss: 0.7486 ||: 100%|██████████| 12/12 [00:00<00:00, 406.01it/s]\n",
            "accuracy: 0.8632, loss: 0.3976 ||: 100%|██████████| 281/281 [00:01<00:00, 216.42it/s]\n",
            "accuracy: 0.7939, loss: 0.7376 ||: 100%|██████████| 12/12 [00:00<00:00, 372.60it/s]\n",
            "accuracy: 0.8645, loss: 0.3914 ||: 100%|██████████| 281/281 [00:01<00:00, 212.96it/s]\n",
            "accuracy: 0.7939, loss: 0.7443 ||: 100%|██████████| 12/12 [00:00<00:00, 407.82it/s]\n",
            "accuracy: 0.8647, loss: 0.3859 ||: 100%|██████████| 281/281 [00:01<00:00, 213.43it/s]\n",
            "accuracy: 0.7939, loss: 0.7353 ||: 100%|██████████| 12/12 [00:00<00:00, 367.70it/s]\n",
            "accuracy: 0.8643, loss: 0.3789 ||: 100%|██████████| 281/281 [00:01<00:00, 210.48it/s]\n",
            "accuracy: 0.7939, loss: 0.7385 ||: 100%|██████████| 12/12 [00:00<00:00, 379.05it/s]\n",
            "accuracy: 0.8657, loss: 0.3746 ||: 100%|██████████| 281/281 [00:01<00:00, 193.29it/s]\n",
            "accuracy: 0.7878, loss: 0.7126 ||: 100%|██████████| 12/12 [00:00<00:00, 391.50it/s]\n",
            "accuracy: 0.8660, loss: 0.3732 ||: 100%|██████████| 281/281 [00:01<00:00, 189.50it/s]\n",
            "accuracy: 0.7837, loss: 0.7296 ||: 100%|██████████| 12/12 [00:00<00:00, 400.42it/s]\n",
            "accuracy: 0.8688, loss: 0.3686 ||: 100%|██████████| 281/281 [00:01<00:00, 200.10it/s]\n",
            "accuracy: 0.7959, loss: 0.7294 ||: 100%|██████████| 12/12 [00:00<00:00, 401.99it/s]\n",
            "accuracy: 0.8669, loss: 0.3656 ||: 100%|██████████| 281/281 [00:01<00:00, 218.45it/s]\n",
            "accuracy: 0.7939, loss: 0.6827 ||: 100%|██████████| 12/12 [00:00<00:00, 361.27it/s]\n",
            "accuracy: 0.8690, loss: 0.3604 ||: 100%|██████████| 281/281 [00:01<00:00, 218.79it/s]\n",
            "accuracy: 0.8000, loss: 0.7004 ||: 100%|██████████| 12/12 [00:00<00:00, 417.41it/s]\n",
            "accuracy: 0.8724, loss: 0.3582 ||: 100%|██████████| 281/281 [00:01<00:00, 220.33it/s]\n",
            "accuracy: 0.8000, loss: 0.6793 ||: 100%|██████████| 12/12 [00:00<00:00, 405.44it/s]\n",
            "accuracy: 0.8723, loss: 0.3529 ||: 100%|██████████| 281/281 [00:01<00:00, 221.07it/s]\n",
            "accuracy: 0.7980, loss: 0.6909 ||: 100%|██████████| 12/12 [00:00<00:00, 406.77it/s]\n",
            "accuracy: 0.8719, loss: 0.3513 ||: 100%|██████████| 281/281 [00:01<00:00, 217.16it/s]\n",
            "accuracy: 0.8020, loss: 0.6785 ||: 100%|██████████| 12/12 [00:00<00:00, 411.17it/s]\n",
            "accuracy: 0.8712, loss: 0.3492 ||: 100%|██████████| 281/281 [00:01<00:00, 218.10it/s]\n",
            "accuracy: 0.8061, loss: 0.6778 ||: 100%|██████████| 12/12 [00:00<00:00, 430.17it/s]\n",
            "accuracy: 0.8741, loss: 0.3416 ||: 100%|██████████| 281/281 [00:01<00:00, 216.07it/s]\n",
            "accuracy: 0.8122, loss: 0.6516 ||: 100%|██████████| 12/12 [00:00<00:00, 377.28it/s]\n",
            "accuracy: 0.8755, loss: 0.3430 ||: 100%|██████████| 281/281 [00:01<00:00, 213.01it/s]\n",
            "accuracy: 0.8082, loss: 0.6499 ||: 100%|██████████| 12/12 [00:00<00:00, 400.36it/s]\n",
            "accuracy: 0.8742, loss: 0.3411 ||: 100%|██████████| 281/281 [00:01<00:00, 219.27it/s]\n",
            "accuracy: 0.8082, loss: 0.6661 ||: 100%|██████████| 12/12 [00:00<00:00, 340.48it/s]\n",
            "accuracy: 0.8755, loss: 0.3353 ||: 100%|██████████| 281/281 [00:01<00:00, 217.30it/s]\n",
            "accuracy: 0.8184, loss: 0.6463 ||: 100%|██████████| 12/12 [00:00<00:00, 408.09it/s]\n",
            "accuracy: 0.8769, loss: 0.3375 ||: 100%|██████████| 281/281 [00:01<00:00, 213.47it/s]\n",
            "accuracy: 0.8163, loss: 0.6459 ||: 100%|██████████| 12/12 [00:00<00:00, 337.88it/s]\n",
            "accuracy: 0.8787, loss: 0.3285 ||: 100%|██████████| 281/281 [00:01<00:00, 213.10it/s]\n",
            "accuracy: 0.8204, loss: 0.6486 ||: 100%|██████████| 12/12 [00:00<00:00, 377.55it/s]\n",
            "accuracy: 0.8789, loss: 0.3279 ||: 100%|██████████| 281/281 [00:01<00:00, 219.49it/s]\n",
            "accuracy: 0.8163, loss: 0.6507 ||: 100%|██████████| 12/12 [00:00<00:00, 396.13it/s]\n",
            "accuracy: 0.8806, loss: 0.3250 ||: 100%|██████████| 281/281 [00:01<00:00, 221.96it/s]\n",
            "accuracy: 0.8224, loss: 0.6506 ||: 100%|██████████| 12/12 [00:00<00:00, 389.23it/s]\n",
            "accuracy: 0.8801, loss: 0.3241 ||: 100%|██████████| 281/281 [00:01<00:00, 205.25it/s]\n",
            "accuracy: 0.8204, loss: 0.6324 ||: 100%|██████████| 12/12 [00:00<00:00, 361.55it/s]\n",
            "accuracy: 0.8806, loss: 0.3225 ||: 100%|██████████| 281/281 [00:01<00:00, 191.37it/s]\n",
            "accuracy: 0.8286, loss: 0.6318 ||: 100%|██████████| 12/12 [00:00<00:00, 352.35it/s]\n",
            "accuracy: 0.8838, loss: 0.3189 ||: 100%|██████████| 281/281 [00:01<00:00, 182.42it/s]\n",
            "accuracy: 0.8347, loss: 0.6131 ||: 100%|██████████| 12/12 [00:00<00:00, 339.89it/s]\n",
            "accuracy: 0.8843, loss: 0.3160 ||: 100%|██████████| 281/281 [00:01<00:00, 210.18it/s]\n",
            "accuracy: 0.8245, loss: 0.6207 ||: 100%|██████████| 12/12 [00:00<00:00, 344.86it/s]\n",
            "accuracy: 0.8852, loss: 0.3137 ||: 100%|██████████| 281/281 [00:01<00:00, 202.77it/s]\n",
            "accuracy: 0.8327, loss: 0.6226 ||: 100%|██████████| 12/12 [00:00<00:00, 348.55it/s]\n",
            "accuracy: 0.8851, loss: 0.3131 ||: 100%|██████████| 281/281 [00:01<00:00, 205.50it/s]\n",
            "accuracy: 0.8347, loss: 0.6075 ||: 100%|██████████| 12/12 [00:00<00:00, 379.25it/s]\n",
            "accuracy: 0.8872, loss: 0.3117 ||: 100%|██████████| 281/281 [00:01<00:00, 217.65it/s]\n",
            "accuracy: 0.8327, loss: 0.6026 ||: 100%|██████████| 12/12 [00:00<00:00, 381.51it/s]\n",
            "accuracy: 0.8878, loss: 0.3096 ||: 100%|██████████| 281/281 [00:01<00:00, 216.98it/s]\n",
            "accuracy: 0.8388, loss: 0.6018 ||: 100%|██████████| 12/12 [00:00<00:00, 406.21it/s]\n",
            "accuracy: 0.8891, loss: 0.3062 ||: 100%|██████████| 281/281 [00:01<00:00, 195.14it/s]\n",
            "accuracy: 0.8429, loss: 0.5918 ||: 100%|██████████| 12/12 [00:00<00:00, 384.39it/s]\n",
            "accuracy: 0.8889, loss: 0.3038 ||: 100%|██████████| 281/281 [00:01<00:00, 220.12it/s]\n",
            "accuracy: 0.8347, loss: 0.6092 ||: 100%|██████████| 12/12 [00:00<00:00, 396.37it/s]\n",
            "accuracy: 0.8911, loss: 0.3024 ||: 100%|██████████| 281/281 [00:01<00:00, 217.78it/s]\n",
            "accuracy: 0.8388, loss: 0.5848 ||: 100%|██████████| 12/12 [00:00<00:00, 408.87it/s]\n",
            "accuracy: 0.8902, loss: 0.2999 ||: 100%|██████████| 281/281 [00:01<00:00, 219.91it/s]\n",
            "accuracy: 0.8408, loss: 0.5850 ||: 100%|██████████| 12/12 [00:00<00:00, 419.72it/s]\n",
            "accuracy: 0.8926, loss: 0.2980 ||: 100%|██████████| 281/281 [00:01<00:00, 220.72it/s]\n",
            "accuracy: 0.8449, loss: 0.5716 ||: 100%|██████████| 12/12 [00:00<00:00, 401.84it/s]\n",
            "accuracy: 0.8934, loss: 0.2961 ||: 100%|██████████| 281/281 [00:01<00:00, 202.90it/s]\n",
            "accuracy: 0.8388, loss: 0.5836 ||: 100%|██████████| 12/12 [00:00<00:00, 359.87it/s]\n",
            "accuracy: 0.8937, loss: 0.2944 ||: 100%|██████████| 281/281 [00:01<00:00, 222.72it/s]\n",
            "accuracy: 0.8388, loss: 0.5790 ||: 100%|██████████| 12/12 [00:00<00:00, 376.59it/s]\n",
            "accuracy: 0.8932, loss: 0.2919 ||: 100%|██████████| 281/281 [00:01<00:00, 214.70it/s]\n",
            "accuracy: 0.8429, loss: 0.5755 ||: 100%|██████████| 12/12 [00:00<00:00, 384.83it/s]\n",
            "accuracy: 0.8940, loss: 0.2907 ||: 100%|██████████| 281/281 [00:01<00:00, 217.81it/s]\n",
            "accuracy: 0.8469, loss: 0.5691 ||: 100%|██████████| 12/12 [00:00<00:00, 365.81it/s]\n",
            "accuracy: 0.8929, loss: 0.2900 ||: 100%|██████████| 281/281 [00:01<00:00, 218.35it/s]\n",
            "accuracy: 0.8469, loss: 0.5639 ||: 100%|██████████| 12/12 [00:00<00:00, 395.58it/s]\n",
            "accuracy: 0.8950, loss: 0.2886 ||: 100%|██████████| 281/281 [00:01<00:00, 218.89it/s]\n",
            "accuracy: 0.8408, loss: 0.5672 ||: 100%|██████████| 12/12 [00:00<00:00, 373.61it/s]\n",
            "accuracy: 0.8926, loss: 0.2862 ||: 100%|██████████| 281/281 [00:01<00:00, 206.96it/s]\n",
            "accuracy: 0.8510, loss: 0.5551 ||: 100%|██████████| 12/12 [00:00<00:00, 346.94it/s]\n",
            "accuracy: 0.8975, loss: 0.2850 ||: 100%|██████████| 281/281 [00:01<00:00, 185.36it/s]\n",
            "accuracy: 0.8490, loss: 0.5582 ||: 100%|██████████| 12/12 [00:00<00:00, 427.64it/s]\n",
            "accuracy: 0.8961, loss: 0.2836 ||: 100%|██████████| 281/281 [00:01<00:00, 206.49it/s]\n",
            "accuracy: 0.8490, loss: 0.5502 ||: 100%|██████████| 12/12 [00:00<00:00, 317.98it/s]\n",
            "accuracy: 0.8951, loss: 0.2834 ||: 100%|██████████| 281/281 [00:01<00:00, 200.13it/s]\n",
            "accuracy: 0.8429, loss: 0.5520 ||: 100%|██████████| 12/12 [00:00<00:00, 338.17it/s]\n",
            "accuracy: 0.8965, loss: 0.2798 ||: 100%|██████████| 281/281 [00:01<00:00, 219.38it/s]\n",
            "accuracy: 0.8531, loss: 0.5362 ||: 100%|██████████| 12/12 [00:00<00:00, 406.67it/s]\n",
            "accuracy: 0.8976, loss: 0.2769 ||: 100%|██████████| 281/281 [00:01<00:00, 211.65it/s]\n",
            "accuracy: 0.8571, loss: 0.5327 ||: 100%|██████████| 12/12 [00:00<00:00, 342.46it/s]\n",
            "accuracy: 0.8969, loss: 0.2761 ||: 100%|██████████| 281/281 [00:01<00:00, 215.10it/s]\n",
            "accuracy: 0.8429, loss: 0.5413 ||: 100%|██████████| 12/12 [00:00<00:00, 403.12it/s]\n",
            "accuracy: 0.8978, loss: 0.2757 ||: 100%|██████████| 281/281 [00:01<00:00, 220.43it/s]\n",
            "accuracy: 0.8429, loss: 0.5382 ||: 100%|██████████| 12/12 [00:00<00:00, 384.97it/s]\n",
            "accuracy: 0.8984, loss: 0.2748 ||: 100%|██████████| 281/281 [00:01<00:00, 217.68it/s]\n",
            "accuracy: 0.8531, loss: 0.5294 ||: 100%|██████████| 12/12 [00:00<00:00, 368.24it/s]\n",
            "accuracy: 0.9006, loss: 0.2704 ||: 100%|██████████| 281/281 [00:01<00:00, 217.96it/s]\n",
            "accuracy: 0.8347, loss: 0.5798 ||: 100%|██████████| 12/12 [00:00<00:00, 383.54it/s]\n",
            "accuracy: 0.8991, loss: 0.2706 ||: 100%|██████████| 281/281 [00:01<00:00, 218.70it/s]\n",
            "accuracy: 0.8490, loss: 0.5278 ||: 100%|██████████| 12/12 [00:00<00:00, 417.33it/s]\n",
            "accuracy: 0.8992, loss: 0.2701 ||: 100%|██████████| 281/281 [00:01<00:00, 219.72it/s]\n",
            "accuracy: 0.8592, loss: 0.5227 ||: 100%|██████████| 12/12 [00:00<00:00, 426.52it/s]\n",
            "accuracy: 0.9026, loss: 0.2668 ||: 100%|██████████| 281/281 [00:01<00:00, 218.71it/s]\n",
            "accuracy: 0.8510, loss: 0.5267 ||: 100%|██████████| 12/12 [00:00<00:00, 396.43it/s]\n",
            "accuracy: 0.9039, loss: 0.2648 ||: 100%|██████████| 281/281 [00:01<00:00, 214.15it/s]\n",
            "accuracy: 0.8449, loss: 0.5288 ||: 100%|██████████| 12/12 [00:00<00:00, 404.32it/s]\n",
            "accuracy: 0.9045, loss: 0.2637 ||: 100%|██████████| 281/281 [00:01<00:00, 203.75it/s]\n",
            "accuracy: 0.8571, loss: 0.5086 ||: 100%|██████████| 12/12 [00:00<00:00, 392.94it/s]\n",
            "accuracy: 0.9048, loss: 0.2612 ||: 100%|██████████| 281/281 [00:01<00:00, 216.97it/s]\n",
            "accuracy: 0.8531, loss: 0.5092 ||: 100%|██████████| 12/12 [00:00<00:00, 387.87it/s]\n",
            "accuracy: 0.9029, loss: 0.2598 ||: 100%|██████████| 281/281 [00:01<00:00, 207.77it/s]\n",
            "accuracy: 0.8531, loss: 0.5076 ||: 100%|██████████| 12/12 [00:00<00:00, 408.13it/s]\n",
            "accuracy: 0.9064, loss: 0.2575 ||: 100%|██████████| 281/281 [00:01<00:00, 187.99it/s]\n",
            "accuracy: 0.8551, loss: 0.5089 ||: 100%|██████████| 12/12 [00:00<00:00, 364.92it/s]\n",
            "accuracy: 0.9060, loss: 0.2578 ||: 100%|██████████| 281/281 [00:01<00:00, 201.80it/s]\n",
            "accuracy: 0.8571, loss: 0.5013 ||: 100%|██████████| 12/12 [00:00<00:00, 402.77it/s]\n",
            "accuracy: 0.9057, loss: 0.2551 ||: 100%|██████████| 281/281 [00:01<00:00, 214.10it/s]\n",
            "accuracy: 0.8571, loss: 0.4985 ||: 100%|██████████| 12/12 [00:00<00:00, 417.40it/s]\n",
            "accuracy: 0.9066, loss: 0.2534 ||: 100%|██████████| 281/281 [00:01<00:00, 211.92it/s]\n",
            "accuracy: 0.8531, loss: 0.4986 ||: 100%|██████████| 12/12 [00:00<00:00, 341.99it/s]\n",
            "accuracy: 0.9068, loss: 0.2523 ||: 100%|██████████| 281/281 [00:01<00:00, 216.25it/s]\n",
            "accuracy: 0.8592, loss: 0.4922 ||: 100%|██████████| 12/12 [00:00<00:00, 369.07it/s]\n",
            "accuracy: 0.9086, loss: 0.2511 ||: 100%|██████████| 281/281 [00:01<00:00, 219.84it/s]\n",
            "accuracy: 0.8510, loss: 0.5155 ||: 100%|██████████| 12/12 [00:00<00:00, 423.10it/s]\n",
            "accuracy: 0.9096, loss: 0.2489 ||: 100%|██████████| 281/281 [00:01<00:00, 214.71it/s]\n",
            "accuracy: 0.8571, loss: 0.4916 ||: 100%|██████████| 12/12 [00:00<00:00, 377.32it/s]\n",
            "accuracy: 0.9090, loss: 0.2485 ||: 100%|██████████| 281/281 [00:01<00:00, 217.06it/s]\n",
            "accuracy: 0.8633, loss: 0.4828 ||: 100%|██████████| 12/12 [00:00<00:00, 388.27it/s]\n",
            "accuracy: 0.9099, loss: 0.2466 ||: 100%|██████████| 281/281 [00:01<00:00, 219.20it/s]\n",
            "accuracy: 0.8551, loss: 0.4994 ||: 100%|██████████| 12/12 [00:00<00:00, 397.73it/s]\n",
            "accuracy: 0.9106, loss: 0.2454 ||: 100%|██████████| 281/281 [00:01<00:00, 211.06it/s]\n",
            "accuracy: 0.8612, loss: 0.4837 ||: 100%|██████████| 12/12 [00:00<00:00, 415.84it/s]\n",
            "accuracy: 0.9112, loss: 0.2466 ||: 100%|██████████| 281/281 [00:01<00:00, 212.11it/s]\n",
            "accuracy: 0.8551, loss: 0.4832 ||: 100%|██████████| 12/12 [00:00<00:00, 337.81it/s]\n",
            "accuracy: 0.9130, loss: 0.2405 ||: 100%|██████████| 281/281 [00:01<00:00, 197.64it/s]\n",
            "accuracy: 0.8592, loss: 0.4765 ||: 100%|██████████| 12/12 [00:00<00:00, 351.56it/s]\n",
            "accuracy: 0.9118, loss: 0.2395 ||: 100%|██████████| 281/281 [00:01<00:00, 204.83it/s]\n",
            "accuracy: 0.8612, loss: 0.4659 ||: 100%|██████████| 12/12 [00:00<00:00, 381.67it/s]\n",
            "accuracy: 0.9129, loss: 0.2383 ||: 100%|██████████| 281/281 [00:01<00:00, 219.36it/s]\n",
            "accuracy: 0.8633, loss: 0.4727 ||: 100%|██████████| 12/12 [00:00<00:00, 393.66it/s]\n",
            "accuracy: 0.9136, loss: 0.2359 ||: 100%|██████████| 281/281 [00:01<00:00, 221.46it/s]\n",
            "accuracy: 0.8592, loss: 0.4809 ||: 100%|██████████| 12/12 [00:00<00:00, 397.44it/s]\n",
            "accuracy: 0.9154, loss: 0.2336 ||: 100%|██████████| 281/281 [00:01<00:00, 219.62it/s]\n",
            "accuracy: 0.8633, loss: 0.4628 ||: 100%|██████████| 12/12 [00:00<00:00, 354.04it/s]\n",
            "accuracy: 0.9157, loss: 0.2309 ||: 100%|██████████| 281/281 [00:01<00:00, 215.95it/s]\n",
            "accuracy: 0.8633, loss: 0.4619 ||: 100%|██████████| 12/12 [00:00<00:00, 377.37it/s]\n",
            "accuracy: 0.9156, loss: 0.2309 ||: 100%|██████████| 281/281 [00:01<00:00, 219.86it/s]\n",
            "accuracy: 0.8633, loss: 0.4500 ||: 100%|██████████| 12/12 [00:00<00:00, 399.41it/s]\n",
            "accuracy: 0.9177, loss: 0.2292 ||: 100%|██████████| 281/281 [00:01<00:00, 205.66it/s]\n",
            "accuracy: 0.8592, loss: 0.4549 ||: 100%|██████████| 12/12 [00:00<00:00, 370.92it/s]\n",
            "accuracy: 0.9147, loss: 0.2261 ||: 100%|██████████| 281/281 [00:01<00:00, 202.79it/s]\n",
            "accuracy: 0.8612, loss: 0.4725 ||: 100%|██████████| 12/12 [00:00<00:00, 402.67it/s]\n",
            "accuracy: 0.9155, loss: 0.2276 ||: 100%|██████████| 281/281 [00:01<00:00, 189.99it/s]\n",
            "accuracy: 0.8592, loss: 0.4509 ||: 100%|██████████| 12/12 [00:00<00:00, 367.50it/s]\n",
            "accuracy: 0.9171, loss: 0.2221 ||: 100%|██████████| 281/281 [00:01<00:00, 217.20it/s]\n",
            "accuracy: 0.8633, loss: 0.4472 ||: 100%|██████████| 12/12 [00:00<00:00, 443.34it/s]\n",
            "accuracy: 0.9185, loss: 0.2207 ||: 100%|██████████| 281/281 [00:01<00:00, 208.93it/s]\n",
            "accuracy: 0.8653, loss: 0.4425 ||: 100%|██████████| 12/12 [00:00<00:00, 362.98it/s]\n",
            "accuracy: 0.9187, loss: 0.2197 ||: 100%|██████████| 281/281 [00:01<00:00, 216.15it/s]\n",
            "accuracy: 0.8612, loss: 0.4621 ||: 100%|██████████| 12/12 [00:00<00:00, 352.36it/s]\n"
          ],
          "name": "stderr"
        },
        {
          "output_type": "execute_result",
          "data": {
            "text/plain": [
              "{'best_epoch': 98,\n",
              " 'best_validation_accuracy': 0.8653061224489796,\n",
              " 'best_validation_loss': 0.44252253993666574,\n",
              " 'epoch': 99,\n",
              " 'peak_cpu_memory_MB': 3826.724,\n",
              " 'peak_gpu_0_memory_MB': 957,\n",
              " 'training_accuracy': 0.9186526850969177,\n",
              " 'training_cpu_memory_MB': 3826.724,\n",
              " 'training_duration': '0:02:23.643389',\n",
              " 'training_epochs': 99,\n",
              " 'training_gpu_0_memory_MB': 957,\n",
              " 'training_loss': 0.21970394746258728,\n",
              " 'training_start_epoch': 0,\n",
              " 'validation_accuracy': 0.8612244897959184,\n",
              " 'validation_loss': 0.4620858648753104}"
            ]
          },
          "metadata": {
            "tags": []
          },
          "execution_count": 7
        }
      ]
    },
    {
      "cell_type": "markdown",
      "metadata": {
        "id": "mwN6ctqVV0tf"
      },
      "source": [
        "## Evaluation"
      ]
    },
    {
      "cell_type": "markdown",
      "metadata": {
        "id": "qkDs_UdIeuFz"
      },
      "source": [
        "The simple code below creators a `predictor` object that applies the model to an input example and then loops over the examples in the validation set, printing out the input token, gold-standard output, and model output. You can see from these methods how to access data and model outputs for evaluation."
      ]
    },
    {
      "cell_type": "code",
      "metadata": {
        "id": "S0bE4fmLik08"
      },
      "source": [
        "predictor = SentenceTaggerPredictor(model, dataset_reader=reader)\n",
        "\n",
        "def tag_sentence(s):\n",
        "  tag_ids = np.argmax(predictor.predict_instance(s)['tag_logits'], axis=-1)\n",
        "  fields = zip(s['tokens'], s['tags'], [model.vocab.get_token_from_index(i, 'labels') for i in tag_ids])\n",
        "  return list(fields)\n",
        "\n",
        "baseline_output = [tag_sentence(i) for i in validation_dataset]"
      ],
      "execution_count": 33,
      "outputs": []
    },
    {
      "cell_type": "code",
      "metadata": {
        "colab": {
          "base_uri": "https://localhost:8080/",
          "height": 232
        },
        "id": "13TzqE68MVBE",
        "outputId": "553b4e83-a7dc-4603-bc98-f0512afe3c8c"
      },
      "source": [
        "#predictor = SentenceTaggerPredictor(model, dataset_reader=PosDatasetReader())\n",
        "tag_logits = tag_sentence(predictor.predict_instance(s)['tag_logits'])\n",
        "print(tag_logits)\n",
        "tag_ids = np.argmax(tag_logits, axis=-1)\n",
        "#print([model.vocab.get_token_from_index(i, 'labels') for i in tag_ids])\n",
        "    \n",
        "    #print(vocab.get_index_to_token_vocabulary('labels'))\n",
        "    #shutil.rmtree(serialization_dir)"
      ],
      "execution_count": 34,
      "outputs": [
        {
          "output_type": "error",
          "ename": "NameError",
          "evalue": "ignored",
          "traceback": [
            "\u001b[0;31m---------------------------------------------------------------------------\u001b[0m",
            "\u001b[0;31mNameError\u001b[0m                                 Traceback (most recent call last)",
            "\u001b[0;32m<ipython-input-34-c51a66a8c6ae>\u001b[0m in \u001b[0;36m<module>\u001b[0;34m()\u001b[0m\n\u001b[1;32m      1\u001b[0m \u001b[0;31m#predictor = SentenceTaggerPredictor(model, dataset_reader=PosDatasetReader())\u001b[0m\u001b[0;34m\u001b[0m\u001b[0;34m\u001b[0m\u001b[0;34m\u001b[0m\u001b[0m\n\u001b[0;32m----> 2\u001b[0;31m \u001b[0mtag_logits\u001b[0m \u001b[0;34m=\u001b[0m \u001b[0mtag_sentence\u001b[0m\u001b[0;34m(\u001b[0m\u001b[0mpredictor\u001b[0m\u001b[0;34m.\u001b[0m\u001b[0mpredict_instance\u001b[0m\u001b[0;34m(\u001b[0m\u001b[0ms\u001b[0m\u001b[0;34m)\u001b[0m\u001b[0;34m[\u001b[0m\u001b[0;34m'tag_logits'\u001b[0m\u001b[0;34m]\u001b[0m\u001b[0;34m)\u001b[0m\u001b[0;34m\u001b[0m\u001b[0;34m\u001b[0m\u001b[0m\n\u001b[0m\u001b[1;32m      3\u001b[0m \u001b[0mprint\u001b[0m\u001b[0;34m(\u001b[0m\u001b[0mtag_logits\u001b[0m\u001b[0;34m)\u001b[0m\u001b[0;34m\u001b[0m\u001b[0;34m\u001b[0m\u001b[0m\n\u001b[1;32m      4\u001b[0m \u001b[0mtag_ids\u001b[0m \u001b[0;34m=\u001b[0m \u001b[0mnp\u001b[0m\u001b[0;34m.\u001b[0m\u001b[0margmax\u001b[0m\u001b[0;34m(\u001b[0m\u001b[0mtag_logits\u001b[0m\u001b[0;34m,\u001b[0m \u001b[0maxis\u001b[0m\u001b[0;34m=\u001b[0m\u001b[0;34m-\u001b[0m\u001b[0;36m1\u001b[0m\u001b[0;34m)\u001b[0m\u001b[0;34m\u001b[0m\u001b[0;34m\u001b[0m\u001b[0m\n\u001b[1;32m      5\u001b[0m \u001b[0;31m#print([model.vocab.get_token_from_index(i, 'labels') for i in tag_ids])\u001b[0m\u001b[0;34m\u001b[0m\u001b[0;34m\u001b[0m\u001b[0;34m\u001b[0m\u001b[0m\n",
            "\u001b[0;31mNameError\u001b[0m: name 's' is not defined"
          ]
        }
      ]
    },
    {
      "cell_type": "code",
      "metadata": {
        "colab": {
          "base_uri": "https://localhost:8080/"
        },
        "id": "mzadifxXNaue",
        "outputId": "1f6cbbaa-6edd-4c1c-cc7e-9330635ad9f3"
      },
      "source": [
        "len(tag_logits)"
      ],
      "execution_count": 24,
      "outputs": [
        {
          "output_type": "execute_result",
          "data": {
            "text/plain": [
              "5"
            ]
          },
          "metadata": {
            "tags": []
          },
          "execution_count": 24
        }
      ]
    },
    {
      "cell_type": "code",
      "metadata": {
        "colab": {
          "base_uri": "https://localhost:8080/"
        },
        "id": "tjxPayrbzHNZ",
        "outputId": "e22e9226-bd6f-4574-cce7-7a2ba9cc4d71"
      },
      "source": [
        "len(baseline_output)"
      ],
      "execution_count": 37,
      "outputs": [
        {
          "output_type": "execute_result",
          "data": {
            "text/plain": [
              "23"
            ]
          },
          "metadata": {
            "tags": []
          },
          "execution_count": 37
        }
      ]
    },
    {
      "cell_type": "code",
      "metadata": {
        "id": "ZjO1-EFdlM3q"
      },
      "source": [
        "def violations(tagged):\n",
        "  Raw_l=[]\n",
        "  Predict_l=[]\n",
        "  for i in tagged:\n",
        "    raw_l=[j[1] for j in i]\n",
        "    Raw_l.append(raw_l)\n",
        "    predict_l = [j[2] for j in i]\n",
        "    Predict_l.append(predict_l)\n",
        "  Count=0\n",
        "  for i in Predict_l:\n",
        "    split_l = [j.split(\"-\") for j in i]\n",
        "    count = 0\n",
        "    for j in range(len(split_l)):\n",
        "      if len(split_l[j])==2:\n",
        "        #error type begining no \"B\"\n",
        "        if j==0 and split_l[j][0]!='B':\n",
        "          count = count+1\n",
        "        #error type ending solo \"I\":\n",
        "        if j==len(split_l)-1 and j[0]=='I' and split_l[j][1]!=split_l[j-1][1]:\n",
        "          count = count+1\n",
        "        if j>0 and j<len(split_l)-1:\n",
        "          #error 2 B\n",
        "          if split_l[j][0]=='B' and len(split_l[j-1])==2 and split_l[j-1][0]=='B' and split_l[j][1]==split_l[j-1][1]:\n",
        "            count = count+1\n",
        "          #error b-x i-y\n",
        "          if split_l[j][0]=='I' and len(split_l[j-1])==2 and split_l[j-1][0]=='B' and split_l[j][1]!=split_l[j-1][1]:\n",
        "            count = count+1\n",
        "          #error o i-x\n",
        "          if split_l[j][0]=='I' and len(split_l[j-1])==1:\n",
        "            count = count+1\n",
        "          #error i-x i-y\n",
        "          if split_l[j][0]=='I' and len(split_l[j-1])==2 and split_l[j-1][0]=='I' and split_l[j][1]!=split_l[j-1][1]:\n",
        "            count = count+1\n",
        "    # print(i)\n",
        "    # print(count)\n",
        "    # print(\"*******************************\")\n",
        "    Count = Count+count\n",
        "  return Count"
      ],
      "execution_count": 12,
      "outputs": []
    },
    {
      "cell_type": "code",
      "metadata": {
        "colab": {
          "base_uri": "https://localhost:8080/"
        },
        "id": "Uov53PO4l9Lj",
        "outputId": "45cabe25-75cc-4998-fb8d-01229c2773ec"
      },
      "source": [
        "Count=violations(baseline_output)\n",
        "Count"
      ],
      "execution_count": 14,
      "outputs": [
        {
          "output_type": "execute_result",
          "data": {
            "text/plain": [
              "35"
            ]
          },
          "metadata": {
            "tags": []
          },
          "execution_count": 14
        }
      ]
    },
    {
      "cell_type": "code",
      "metadata": {
        "id": "qWpeYUZPbXin"
      },
      "source": [
        "#baseline_output"
      ],
      "execution_count": 17,
      "outputs": []
    },
    {
      "cell_type": "code",
      "metadata": {
        "colab": {
          "base_uri": "https://localhost:8080/"
        },
        "id": "0NpiRrGwIN9c",
        "outputId": "459fd189-1274-47d6-e7e0-733b3290d666"
      },
      "source": [
        "# get the last element of each tuple \n",
        "third_ele = []\n",
        "\n",
        "for item in baseline_output:\n",
        "  phase=[]\n",
        "  for a_tuple in item:\n",
        "    phase.append(a_tuple[1])\n",
        "  third_ele.append(phase)\n",
        "print(third_ele)\n"
      ],
      "execution_count": 76,
      "outputs": [
        {
          "output_type": "stream",
          "text": [
            "[['O', 'O', 'O', 'O', 'O', 'O', 'O', 'B-PERSON', 'I-PERSON', 'O', 'O', 'O', 'O', 'O', 'B-CARDINAL', 'O', 'O', 'O', 'O', 'O', 'O', 'O', 'B-EVENT', 'I-EVENT', 'I-EVENT', 'I-EVENT', 'O'], ['B-TIME', 'I-TIME', 'O', 'B-PERSON', 'I-PERSON', 'B-ORDINAL', 'O', 'O', 'O', 'B-EVENT', 'I-EVENT', 'I-EVENT', 'O', 'O', 'O', 'O', 'O', 'O', 'O', 'O', 'B-ORG', 'I-ORG', 'I-ORG', 'I-ORG', 'O'], ['O', 'O', 'O', 'B-CARDINAL', 'O', 'O', 'O', 'B-EVENT', 'I-EVENT', 'I-EVENT', 'I-EVENT', 'O'], ['O', 'O', 'O', 'O', 'O', 'O', 'O', 'B-CARDINAL', 'I-CARDINAL', 'I-CARDINAL', 'O', 'O'], ['O', 'O', 'O', 'O', 'O', 'O', 'O', 'B-CARDINAL', 'I-CARDINAL', 'I-CARDINAL', 'I-CARDINAL', 'O', 'O', 'O', 'O', 'O', 'O', 'O', 'O', 'O', 'O', 'O', 'O', 'O', 'O', 'O'], ['O', 'O', 'O', 'O', 'O', 'B-CARDINAL', 'I-CARDINAL', 'I-CARDINAL', 'O', 'O', 'O', 'O'], ['B-EVENT', 'I-EVENT', 'I-EVENT', 'I-EVENT', 'O', 'O', 'O', 'O', 'O', 'O', 'O', 'O', 'B-LOC', 'I-LOC', 'O'], ['O', 'O', 'O', 'O', 'O', 'O', 'O', 'O', 'O'], ['O', 'O', 'O', 'O', 'O', 'O', 'O', 'O', 'O', 'O', 'O', 'O', 'O', 'O', 'O', 'O', 'O'], ['O', 'O', 'O', 'O', 'O', 'O', 'B-NORP', 'O', 'O', 'O', 'O', 'O', 'O', 'O', 'O', 'O', 'O', 'B-DATE', 'O', 'O', 'O', 'O', 'O', 'O', 'O', 'O', 'O', 'B-DATE', 'O'], ['O', 'O', 'B-LOC', 'I-LOC', 'O', 'O', 'O', 'B-GPE', 'I-GPE', 'I-GPE', 'O', 'O', 'O', 'O', 'O', 'B-FAC', 'I-FAC', 'I-FAC', 'O', 'O', 'O'], ['O', 'B-DATE', 'I-DATE', 'I-DATE', 'I-DATE', 'O', 'O', 'O', 'O', 'O', 'O', 'B-NORP', 'O', 'O', 'O', 'B-GPE', 'O', 'O', 'O', 'O', 'O', 'O', 'O', 'O', 'O', 'O', 'B-FAC', 'I-FAC', 'I-FAC', 'O', 'B-ORG', 'I-ORG', 'I-ORG', 'O', 'B-ORG', 'I-ORG', 'I-ORG', 'I-ORG', 'O', 'O', 'O', 'O', 'O', 'O', 'B-ORG', 'I-ORG', 'O', 'B-ORG', 'I-ORG', 'I-ORG', 'O', 'O', 'O', 'O', 'B-PERSON', 'I-PERSON', 'O', 'O', 'O', 'O', 'O', 'B-LOC', 'I-LOC', 'O', 'O', 'O', 'O', 'O', 'O'], ['O', 'O', 'O', 'O', 'O', 'O', 'O', 'O', 'O', 'O', 'O', 'O', 'O', 'O', 'O', 'O'], ['O', 'O', 'O', 'O', 'O', 'B-NORP', 'O', 'O', 'O', 'O', 'O', 'O', 'O', 'O', 'O', 'O', 'O', 'O', 'O', 'B-LOC', 'I-LOC', 'O'], ['O', 'O', 'O', 'O', 'O', 'O', 'O', 'O', 'B-LOC', 'I-LOC', 'O', 'O', 'O', 'O', 'O', 'O', 'O', 'O', 'O', 'O', 'O', 'O', 'B-TIME', 'I-TIME', 'I-TIME', 'I-TIME', 'O'], ['O', 'O', 'O', 'O', 'O', 'O', 'O', 'O', 'O', 'O', 'O', 'O', 'B-LOC', 'I-LOC', 'O', 'O', 'O', 'O', 'O', 'O', 'O', 'O', 'O', 'O', 'O'], ['B-TIME', 'I-TIME', 'I-TIME', 'O', 'O', 'O', 'O', 'O', 'O', 'O', 'O', 'O', 'O', 'O', 'O', 'O', 'O', 'O', 'O', 'O', 'O', 'O', 'O', 'O', 'O'], ['O', 'O', 'O', 'O', 'O', 'O', 'O', 'O', 'O', 'O', 'O', 'O', 'O', 'O', 'O', 'O', 'O', 'B-ORG', 'I-ORG', 'I-ORG', 'I-ORG', 'O', 'O', 'O', 'O', 'O', 'O', 'O', 'O', 'O'], ['O', 'O', 'O', 'O', 'O', 'O', 'O'], ['O', 'O', 'O', 'O', 'O', 'O', 'O', 'O', 'O'], ['O', 'O', 'O', 'O', 'O', 'O', 'O', 'O', 'O', 'O', 'O', 'O', 'O', 'O', 'O', 'O', 'O', 'O', 'O'], ['O', 'O', 'B-DATE', 'I-DATE', 'I-DATE', 'I-DATE', 'O', 'O', 'O', 'O'], ['O', 'O', 'B-DATE', 'I-DATE', 'O', 'O', 'B-NORP', 'O', 'O', 'B-GPE', 'O', 'O', 'O', 'O', 'O', 'O', 'O', 'O', 'O', 'O', 'B-LOC', 'I-LOC', 'O', 'O', 'O', 'O']]\n"
          ],
          "name": "stdout"
        }
      ]
    },
    {
      "cell_type": "code",
      "metadata": {
        "id": "GDPM_eqSQ6wG"
      },
      "source": [
        "from seqeval.metrics import f1_score\n",
        "from seqeval.metrics import precision_score\n",
        "from seqeval.metrics import accuracy_score\n",
        "from seqeval.metrics import recall_score\n",
        "from seqeval.metrics import classification_report\n"
      ],
      "execution_count": 10,
      "outputs": []
    },
    {
      "cell_type": "code",
      "metadata": {
        "colab": {
          "base_uri": "https://localhost:8080/"
        },
        "id": "HqlGw00UI404",
        "outputId": "1fd6bbdd-f768-4562-c82c-94539778b170"
      },
      "source": [
        "def violations(tagged):\n",
        "  third_ele = []\n",
        "  for item in tagged:\n",
        "     phase=[]\n",
        "     for a_tuple in item:\n",
        "       phase.append(a_tuple[2])\n",
        "     third_ele.append(phase)\n",
        "  count = 0\n",
        "  for l in third_ele:\n",
        "    if l[0][0] == 'I':\n",
        "      count += 1\n",
        "    for pair in zip(l, l[1:]):\n",
        "      if (pair[0][0], pair[1][0]) == ('O', 'I'):\n",
        "        count += 1\n",
        "      if (pair[0][0], pair[1][0]) == ('B', 'I') and pair[0][1:] != pair[1][1:]:\n",
        "        count += 1\n",
        "      if (pair[0][0], pair[1][0]) == ('I', 'I') and pair[0] != pair[1]:\n",
        "        count += 1\n",
        "\n",
        "  return count\n",
        "\n",
        "count=violations(baseline_output)\n",
        "print(\"number of violation:\", count)\n",
        "#return the span-level precision, recall, and F1\n",
        "def span_stats(tagged):\n",
        "  second_ele = []\n",
        "  for item in tagged:\n",
        "    phase=[]\n",
        "    for a_tuple in item:\n",
        "      phase.append(a_tuple[1])\n",
        "    second_ele.append(phase)\n",
        "  third_ele = []\n",
        "  for item in tagged:\n",
        "     phase=[]\n",
        "     for a_tuple in item:\n",
        "       phase.append(a_tuple[2])\n",
        "     third_ele.append(phase)\n",
        "\n",
        "  y_true = second_ele\n",
        "  y_pred = third_ele\n",
        "  precision=precision_score(y_true, y_pred)\n",
        "  recall=recall_score(y_true, y_pred)\n",
        "  f1=f1_score(y_true, y_pred)\n",
        "  return {'precision': precision,\n",
        "          'recall': recall,\n",
        "          'f1': f1}\n",
        "#print recall, F1, Precision\n",
        "span_stats(baseline_output)"
      ],
      "execution_count": 104,
      "outputs": [
        {
          "output_type": "stream",
          "text": [
            "number of violation: 39\n"
          ],
          "name": "stdout"
        },
        {
          "output_type": "execute_result",
          "data": {
            "text/plain": [
              "{'f1': 0.16666666666666669,\n",
              " 'precision': 0.13846153846153847,\n",
              " 'recall': 0.20930232558139536}"
            ]
          },
          "metadata": {
            "tags": []
          },
          "execution_count": 104
        }
      ]
    },
    {
      "cell_type": "markdown",
      "metadata": {
        "id": "BpYMx7RVfCyT"
      },
      "source": [
        "Now, you can implement two evaluation functions: `violations` and `span_stats`."
      ]
    },
    {
      "cell_type": "code",
      "metadata": {
        "id": "P042A2Ofg3wa",
        "colab": {
          "base_uri": "https://localhost:8080/"
        },
        "outputId": "82701d7f-7f38-4365-cc37-b9255a6577db"
      },
      "source": [
        "# TODO: count the number of NER label violations,\n",
        "\n",
        "# such as O followed by I-TYPE or B-TYPE followed by I-OTHER_TYPE\n",
        "\n",
        "#o-i, B-PER, I-LOC, \n",
        "#BOI, B-PER, IS-O, B-PERSON, I-PERSON, B-LOC, I-LOC, BOISE, \n",
        "\n",
        "# Take tagger output as input\n",
        "def violations(tagged):\n",
        "  third_ele = []\n",
        "  for item in tagged:\n",
        "     phase=[]\n",
        "     for a_tuple in item:\n",
        "       phase.append(a_tuple[2])\n",
        "     third_ele.append(phase)\n",
        "  count = 0\n",
        "  for l in third_ele:\n",
        "    if l[0][0] == 'I':\n",
        "      count += 1\n",
        "    for pair in zip(l, l[1:]):\n",
        "      if (pair[0][0], pair[1][0]) == ('O', 'I'):\n",
        "        count += 1\n",
        "      if (pair[0][0], pair[1][0]) == ('B', 'I') and pair[0][1:] != pair[1][1:]:\n",
        "        count += 1\n",
        "      if (pair[0][0], pair[1][0]) == ('I', 'I') and pair[0] != pair[1]:\n",
        "        count += 1\n",
        "\n",
        "  return count\n",
        "\n",
        "count=violations(baseline_output)\n",
        "print(\"number of violation:\", count)\n",
        "# TODO: return the span-level precision, recall, and F1\n",
        "\n",
        "# Only count valid spans that start with a B tag, followed by zero or more I tags of the same type.\n",
        "\n",
        "\n",
        "# Take tagger output as input\n",
        "def span_stats(tagged):\n",
        "  second_ele = []\n",
        "  for item in tagged:\n",
        "    phase=[]\n",
        "    for a_tuple in item:\n",
        "      phase.append(a_tuple[1])\n",
        "    second_ele.append(phase)\n",
        "  third_ele = []\n",
        "  for item in tagged:\n",
        "     phase=[]\n",
        "     for a_tuple in item:\n",
        "       phase.append(a_tuple[2])\n",
        "     third_ele.append(phase)\n",
        "  for i in range(len(third_ele)):\n",
        "    l = third_ele[i]\n",
        "    m = second_ele[i]\n",
        "    num = len(l)\n",
        "    j = 1\n",
        "    # remove_index = []\n",
        "    # while j < num:\n",
        "    #     if (l[j-1][0], l[j][0]) == ('O', 'I'):\n",
        "    #         remove_index.append(j)\n",
        "    #         j += 1\n",
        "    #         while j < num:\n",
        "    #             if m[j][0] == 'I':\n",
        "    #                 remove_index.append(j)\n",
        "    #                 j += 1\n",
        "    #             else:\n",
        "    #                 break\n",
        "    #     else:\n",
        "    #         j += 1\n",
        "    # for index in sorted(remove_index, reverse=True):\n",
        "    #     del third_ele[i][index]\n",
        "    #     del second_ele[i][index]\n",
        "  y_true = second_ele\n",
        "  y_pred = third_ele\n",
        "  precision=precision_score(y_true, y_pred)\n",
        "  recall=recall_score(y_true, y_pred)\n",
        "  f1=f1_score(y_true, y_pred)\n",
        "  return {'precision': precision,\n",
        "          'recall': recall,\n",
        "          'f1': f1}\n",
        "#print recall, F1, Precision\n",
        "span_stats(baseline_output)"
      ],
      "execution_count": 113,
      "outputs": [
        {
          "output_type": "stream",
          "text": [
            "number of violation: 39\n"
          ],
          "name": "stdout"
        },
        {
          "output_type": "execute_result",
          "data": {
            "text/plain": [
              "{'f1': 0.18604651162790697,\n",
              " 'precision': 0.18181818181818182,\n",
              " 'recall': 0.19047619047619047}"
            ]
          },
          "metadata": {
            "tags": []
          },
          "execution_count": 113
        }
      ]
    },
    {
      "cell_type": "code",
      "metadata": {
        "id": "Huf39-BQX6nQ"
      },
      "source": [
        "# the number of entites in pred\n",
        "# def span_stats(tagged):\n",
        "#   third_ele = []\n",
        "#   for item in baseline_output:\n",
        "#      phase=[]\n",
        "#      for a_tuple in item:\n",
        "#        phase.append(a_tuple[2])\n",
        "#        third_ele.append(phase)\n",
        "#   return third_ele\n",
        "# def span(tagged):\n",
        "#   count=0\n",
        "#   for l in third_ele:\n",
        "#         for i in l:\n",
        "#             if i[0] =='B':\n",
        "#                 count += 1\n",
        "#   return count\n",
        "# count=span(third_ele)\n",
        "# count"
      ],
      "execution_count": 102,
      "outputs": []
    },
    {
      "cell_type": "code",
      "metadata": {
        "id": "SESok9LjYzmf"
      },
      "source": [
        "from seqeval.metrics import f1_score\n",
        "from seqeval.metrics import precision_score\n",
        "from seqeval.metrics import accuracy_score\n",
        "from seqeval.metrics import recall_score\n",
        "from seqeval.metrics import classification_report\n",
        "from seqeval.scheme import IOB2"
      ],
      "execution_count": 31,
      "outputs": []
    },
    {
      "cell_type": "code",
      "metadata": {
        "id": "PucvGIdlNZK_"
      },
      "source": [
        "def span_stats(tagged):\n",
        "  second_ele = []\n",
        "  for item in tagged:\n",
        "    phase=[]\n",
        "    for a_tuple in item:\n",
        "      phase.append(a_tuple[1])\n",
        "    second_ele.append(phase)\n",
        "  third_ele = []\n",
        "  for item in tagged:\n",
        "     phase=[]\n",
        "     for a_tuple in item:\n",
        "       phase.append(a_tuple[2])\n",
        "     third_ele.append(phase)\n",
        "\n",
        "  y_true = second_ele\n",
        "  y_pred = third_ele\n",
        "  precision=precision_score(y_true, y_pred)\n",
        "  recall=recall_score(y_true, y_pred)\n",
        "  f1=f1_score(y_true, y_pred)\n",
        "  return {'precision': precision,\n",
        "          'recall': recall,\n",
        "          'f1': f1}"
      ],
      "execution_count": 36,
      "outputs": []
    },
    {
      "cell_type": "code",
      "metadata": {
        "colab": {
          "base_uri": "https://localhost:8080/"
        },
        "id": "QZNu2UqSO_LG",
        "outputId": "d121449a-aa8f-4f1e-ffa7-4c31023d0a68"
      },
      "source": [
        "span_stats(baseline_output)"
      ],
      "execution_count": 90,
      "outputs": [
        {
          "output_type": "execute_result",
          "data": {
            "text/plain": [
              "{'f1': 0.24761904761904757,\n",
              " 'precision': 0.20967741935483872,\n",
              " 'recall': 0.3023255813953488}"
            ]
          },
          "metadata": {
            "tags": []
          },
          "execution_count": 90
        }
      ]
    },
    {
      "cell_type": "markdown",
      "metadata": {
        "id": "fX7-quD2hnzB"
      },
      "source": [
        "## Decoding"
      ]
    },
    {
      "cell_type": "markdown",
      "metadata": {
        "id": "WCgW9d9ohsGv"
      },
      "source": [
        "Now you can finally implement the simple Viterbi decoder. The `predictor` object, when applied to an input sentence, first calculates the scores for each possible output tag for each token. See the line `predictor.predict_instance(i)['tag_logits']` in the code above.\n",
        "\n",
        "Then, you will construct a transition matrix. You can use the code below to get a list of the tags the model knows about. For a set of K tags, construct a K-by-K matrix with a log(1)=0 when a transition between a given tag pair is valid and a log(0)=-infinity otherwise.\n",
        "\n",
        "Finally, implement a Viterbi decoder that takes the predictor object and a dataset object and outputs tagged data, just like the `tag_sentence` function above. It should use the Viterbi algorithm with the (max, plus) semiring. You'll be working with sums of log probabilities instead of products of probabilties.\n",
        "\n",
        "Run your `violations` function on the output of this decoder to make sure that there are no invalid tag transitions. Also, compare the span-level metrics on `baseline_output` and your new output using your `span_stats` function."
      ]
    },
    {
      "cell_type": "code",
      "metadata": {
        "id": "nlP8vZhiS68K",
        "colab": {
          "base_uri": "https://localhost:8080/"
        },
        "outputId": "edc89ab3-6d2c-41e3-c5fd-4737783d6d08"
      },
      "source": [
        "# This code show how to map from output vector components to labels\n",
        "print(vocab.get_index_to_token_vocabulary('labels'))\n",
        "\n",
        "data=vocab.get_index_to_token_vocabulary('labels')"
      ],
      "execution_count": 115,
      "outputs": [
        {
          "output_type": "stream",
          "text": [
            "{0: 'O', 1: 'B-GPE', 2: 'I-ORG', 3: 'I-DATE', 4: 'B-CARDINAL', 5: 'I-EVENT', 6: 'B-PERSON', 7: 'B-NORP', 8: 'B-DATE', 9: 'B-ORG', 10: 'B-LOC', 11: 'I-LOC', 12: 'I-FAC', 13: 'I-PERSON', 14: 'I-GPE', 15: 'I-CARDINAL', 16: 'B-EVENT', 17: 'I-TIME', 18: 'I-WORK_OF_ART', 19: 'B-ORDINAL', 20: 'B-FAC', 21: 'B-TIME', 22: 'I-LAW', 23: 'I-QUANTITY', 24: 'I-NORP', 25: 'I-MONEY', 26: 'B-MONEY', 27: 'B-WORK_OF_ART', 28: 'B-QUANTITY', 29: 'B-LAW', 30: 'B-PRODUCT', 31: 'I-PRODUCT', 32: 'B-PERCENT', 33: 'I-PERCENT'}\n"
          ],
          "name": "stdout"
        }
      ]
    },
    {
      "cell_type": "code",
      "metadata": {
        "colab": {
          "base_uri": "https://localhost:8080/",
          "height": 181
        },
        "id": "iWhzX7gJDTW-",
        "outputId": "ab4de1b1-cc45-4573-d760-33265f5ffcf7"
      },
      "source": [
        "tag_log=LstmTagger().forward(baseline_output)\n",
        "#score=tag_sentence(baseline_output)"
      ],
      "execution_count": 18,
      "outputs": [
        {
          "output_type": "error",
          "ename": "TypeError",
          "evalue": "ignored",
          "traceback": [
            "\u001b[0;31m---------------------------------------------------------------------------\u001b[0m",
            "\u001b[0;31mTypeError\u001b[0m                                 Traceback (most recent call last)",
            "\u001b[0;32m<ipython-input-18-8b1577203d1f>\u001b[0m in \u001b[0;36m<module>\u001b[0;34m()\u001b[0m\n\u001b[0;32m----> 1\u001b[0;31m \u001b[0mtag_log\u001b[0m\u001b[0;34m=\u001b[0m\u001b[0mLstmTagger\u001b[0m\u001b[0;34m(\u001b[0m\u001b[0;34m)\u001b[0m\u001b[0;34m.\u001b[0m\u001b[0mforward\u001b[0m\u001b[0;34m(\u001b[0m\u001b[0mbaseline_output\u001b[0m\u001b[0;34m)\u001b[0m\u001b[0;34m\u001b[0m\u001b[0;34m\u001b[0m\u001b[0m\n\u001b[0m\u001b[1;32m      2\u001b[0m \u001b[0;31m#score=tag_sentence(baseline_output)\u001b[0m\u001b[0;34m\u001b[0m\u001b[0;34m\u001b[0m\u001b[0;34m\u001b[0m\u001b[0m\n",
            "\u001b[0;31mTypeError\u001b[0m: __init__() missing 3 required positional arguments: 'word_embeddings', 'encoder', and 'vocab'"
          ]
        }
      ]
    },
    {
      "cell_type": "code",
      "metadata": {
        "colab": {
          "base_uri": "https://localhost:8080/"
        },
        "id": "tM_lBf-Kp1ny",
        "outputId": "12b1785b-7887-4631-d57e-ec6597a84919"
      },
      "source": [
        ""
      ],
      "execution_count": 116,
      "outputs": [
        {
          "output_type": "execute_result",
          "data": {
            "text/plain": [
              "34"
            ]
          },
          "metadata": {
            "tags": []
          },
          "execution_count": 116
        }
      ]
    },
    {
      "cell_type": "code",
      "metadata": {
        "id": "K3jYiyVxqTE9"
      },
      "source": [
        "transitions = ['A', 'B', 'B', 'C', 'B', 'A', 'D', 'D', 'A', 'B', 'A', 'D']\n",
        "\n",
        "def rank(c):\n",
        "    return ord(c) - ord('A')\n",
        "\n",
        "T = [rank(c) for c in transitions]"
      ],
      "execution_count": null,
      "outputs": []
    },
    {
      "cell_type": "code",
      "metadata": {
        "id": "gGxh6dUnqMZw"
      },
      "source": [
        ""
      ],
      "execution_count": null,
      "outputs": []
    }
  ]
}